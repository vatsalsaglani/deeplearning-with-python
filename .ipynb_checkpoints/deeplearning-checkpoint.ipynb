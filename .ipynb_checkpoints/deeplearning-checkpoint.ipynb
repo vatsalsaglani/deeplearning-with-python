{
 "cells": [
  {
   "cell_type": "code",
   "execution_count": 1,
   "metadata": {},
   "outputs": [
    {
     "name": "stdout",
     "output_type": "stream",
     "text": [
      "1.10.0\n"
     ]
    }
   ],
   "source": [
    "import tensorflow.keras as keras\n",
    "import tensorflow as tf\n",
    "\n",
    "print(tf.__version__)"
   ]
  },
  {
   "cell_type": "code",
   "execution_count": 2,
   "metadata": {
    "collapsed": true
   },
   "outputs": [],
   "source": [
    "mnist = tf.keras.datasets.mnist\n",
    "(X_train, y_train), (X_test, y_test) = mnist.load_data()"
   ]
  },
  {
   "cell_type": "code",
   "execution_count": 3,
   "metadata": {},
   "outputs": [
    {
     "name": "stdout",
     "output_type": "stream",
     "text": [
      "[[  0   0   0   0   0   0   0   0   0   0   0   0   0   0   0   0   0   0\n",
      "    0   0   0   0   0   0   0   0   0   0]\n",
      " [  0   0   0   0   0   0   0   0   0   0   0   0   0   0   0   0   0   0\n",
      "    0   0   0   0   0   0   0   0   0   0]\n",
      " [  0   0   0   0   0   0   0   0   0   0   0   0   0   0   0   0   0   0\n",
      "    0   0   0   0   0   0   0   0   0   0]\n",
      " [  0   0   0   0   0   0   0   0   0   0   0   0   0   0   0   0   0   0\n",
      "    0   0   0   0   0   0   0   0   0   0]\n",
      " [  0   0   0   0   0   0   0   0   0   0   0   0   0   0   0   0   0   0\n",
      "    0   0   0   0 189 190   0   0   0   0]\n",
      " [  0   0   0   0   0   0   0   0   0   0   0   0   0   0   0   0   0   0\n",
      "    0   0   0 143 247 153   0   0   0   0]\n",
      " [  0   0   0   0   0   0   0   0   0   0   0   0   0   0   0   0   0   0\n",
      "    0   0 136 247 242  86   0   0   0   0]\n",
      " [  0   0   0   0   0   0   0   0   0   0   0   0   0   0   0   0   0   0\n",
      "    0   0 192 252 187   0   0   0   0   0]\n",
      " [  0   0   0   0   0   0   0   0   0   0   0   0  62 185  18   0   0   0\n",
      "    0  89 236 217  47   0   0   0   0   0]\n",
      " [  0   0   0   0   0   0   0   0   0   0   0   0 216 253  60   0   0   0\n",
      "    0 212 255  81   0   0   0   0   0   0]\n",
      " [  0   0   0   0   0   0   0   0   0   0   0   0 206 252  68   0   0   0\n",
      "   48 242 253  89   0   0   0   0   0   0]\n",
      " [  0   0   0   0   0   0   0   0   0   0   0 131 251 212  21   0   0  11\n",
      "  167 252 197   5   0   0   0   0   0   0]\n",
      " [  0   0   0   0   0   0   0   0   0   0  29 232 247  63   0   0   0 153\n",
      "  252 226   0   0   0   0   0   0   0   0]\n",
      " [  0   0   0   0   0   0   0   0   0  45 219 252 143   0   0   0 116 249\n",
      "  252 103   0   0   0   0   0   0   0   0]\n",
      " [  0   0   0   0   0   0   0   4  96 253 255 253 200 122   7  25 201 250\n",
      "  158   0   0   0   0   0   0   0   0   0]\n",
      " [  0   0   0   0   0   0   0  92 252 252 253 217 252 252 200 227 252 231\n",
      "    0   0   0   0   0   0   0   0   0   0]\n",
      " [  0   0   0   0   0   0  87 251 247 231  65  48 189 252 252 253 252 251\n",
      "  227  35   0   0   0   0   0   0   0   0]\n",
      " [  0   0   0   0   0   0 190 221  98   0   0   0  42 196 252 253 252 252\n",
      "  162   0   0   0   0   0   0   0   0   0]\n",
      " [  0   0   0   0   0   0 111  29   0   0   0   0  62 239 252  86  42  42\n",
      "   14   0   0   0   0   0   0   0   0   0]\n",
      " [  0   0   0   0   0   0   0   0   0   0   0  15 148 253 218   0   0   0\n",
      "    0   0   0   0   0   0   0   0   0   0]\n",
      " [  0   0   0   0   0   0   0   0   0   0   0 121 252 231  28   0   0   0\n",
      "    0   0   0   0   0   0   0   0   0   0]\n",
      " [  0   0   0   0   0   0   0   0   0   0  31 221 251 129   0   0   0   0\n",
      "    0   0   0   0   0   0   0   0   0   0]\n",
      " [  0   0   0   0   0   0   0   0   0   0 218 252 160   0   0   0   0   0\n",
      "    0   0   0   0   0   0   0   0   0   0]\n",
      " [  0   0   0   0   0   0   0   0   0   0 122 252  82   0   0   0   0   0\n",
      "    0   0   0   0   0   0   0   0   0   0]\n",
      " [  0   0   0   0   0   0   0   0   0   0   0   0   0   0   0   0   0   0\n",
      "    0   0   0   0   0   0   0   0   0   0]\n",
      " [  0   0   0   0   0   0   0   0   0   0   0   0   0   0   0   0   0   0\n",
      "    0   0   0   0   0   0   0   0   0   0]\n",
      " [  0   0   0   0   0   0   0   0   0   0   0   0   0   0   0   0   0   0\n",
      "    0   0   0   0   0   0   0   0   0   0]\n",
      " [  0   0   0   0   0   0   0   0   0   0   0   0   0   0   0   0   0   0\n",
      "    0   0   0   0   0   0   0   0   0   0]]\n"
     ]
    }
   ],
   "source": [
    "print(X_train[9]) # contains the image pixel values "
   ]
  },
  {
   "cell_type": "code",
   "execution_count": 4,
   "metadata": {},
   "outputs": [
    {
     "name": "stdout",
     "output_type": "stream",
     "text": [
      "4\n"
     ]
    }
   ],
   "source": [
    "print(y_train[9]) # contains the label 0-9 the number the pixels corresponds"
   ]
  },
  {
   "cell_type": "code",
   "execution_count": 5,
   "metadata": {},
   "outputs": [
    {
     "data": {
      "text/plain": [
       "<Figure size 640x480 with 1 Axes>"
      ]
     },
     "metadata": {},
     "output_type": "display_data"
    }
   ],
   "source": [
    "import matplotlib.pyplot as plt\n",
    "\n",
    "plt.imshow(X_train[9], cmap=plt.cm.binary)\n",
    "plt.show()"
   ]
  },
  {
   "cell_type": "code",
   "execution_count": 6,
   "metadata": {
    "collapsed": true
   },
   "outputs": [],
   "source": [
    "# earlier we had matrix values ranging from 0 to 254 so we normalized our values to come in between 0 and 1 as it would be more helpful for our nueral network\n",
    "X_train = tf.keras.utils.normalize(X_train, axis=1) \n",
    "X_test = tf.keras.utils.normalize(X_test, axis=1)\n"
   ]
  },
  {
   "cell_type": "code",
   "execution_count": 7,
   "metadata": {},
   "outputs": [
    {
     "name": "stdout",
     "output_type": "stream",
     "text": [
      "[[0.         0.         0.         0.         0.         0.\n",
      "  0.         0.         0.         0.         0.         0.\n",
      "  0.         0.         0.         0.         0.         0.\n",
      "  0.         0.         0.         0.         0.         0.\n",
      "  0.         0.         0.         0.        ]\n",
      " [0.         0.         0.         0.         0.         0.\n",
      "  0.         0.         0.         0.         0.         0.\n",
      "  0.         0.         0.         0.         0.         0.\n",
      "  0.         0.         0.         0.         0.         0.\n",
      "  0.         0.         0.         0.        ]\n",
      " [0.         0.         0.         0.         0.         0.\n",
      "  0.         0.         0.         0.         0.         0.\n",
      "  0.         0.         0.         0.         0.         0.\n",
      "  0.         0.         0.         0.         0.         0.\n",
      "  0.         0.         0.         0.        ]\n",
      " [0.         0.         0.         0.         0.         0.\n",
      "  0.         0.         0.         0.         0.         0.\n",
      "  0.         0.         0.         0.         0.         0.\n",
      "  0.         0.         0.         0.         0.         0.\n",
      "  0.         0.         0.         0.        ]\n",
      " [0.         0.         0.         0.         0.         0.\n",
      "  0.         0.         0.         0.         0.         0.\n",
      "  0.         0.         0.         0.         0.         0.\n",
      "  0.         0.         0.         0.         0.         0.\n",
      "  0.         0.         0.         0.        ]\n",
      " [0.         0.         0.         0.         0.         0.\n",
      "  0.         0.         0.         0.         0.         0.\n",
      "  0.00393124 0.02332955 0.02620568 0.02625207 0.17420356 0.17566281\n",
      "  0.28629534 0.05664824 0.51877786 0.71632322 0.77892406 0.89301644\n",
      "  0.         0.         0.         0.        ]\n",
      " [0.         0.         0.         0.         0.         0.\n",
      "  0.         0.         0.05780486 0.06524513 0.16128198 0.22713296\n",
      "  0.22277047 0.32790981 0.36833534 0.3689874  0.34978968 0.32678448\n",
      "  0.368094   0.3747499  0.79066747 0.67980478 0.61494005 0.45002403\n",
      "  0.         0.         0.         0.        ]\n",
      " [0.         0.         0.         0.         0.         0.\n",
      "  0.         0.12250613 0.45858525 0.45852825 0.43408872 0.37314701\n",
      "  0.33153488 0.32790981 0.36833534 0.3689874  0.34978968 0.32420121\n",
      "  0.15214552 0.17865984 0.25626376 0.1573102  0.12298801 0.\n",
      "  0.         0.         0.         0.        ]\n",
      " [0.         0.         0.         0.         0.         0.\n",
      "  0.         0.04500225 0.4219755  0.45852825 0.43408872 0.37314701\n",
      "  0.33153488 0.32790981 0.28826244 0.26543758 0.34149427 0.31128482\n",
      "  0.         0.         0.         0.         0.         0.\n",
      "  0.         0.         0.         0.        ]\n",
      " [0.         0.         0.         0.         0.         0.\n",
      "  0.         0.         0.1541463  0.28272888 0.18358693 0.37314701\n",
      "  0.33153488 0.26569767 0.01601458 0.         0.05945042 0.19891229\n",
      "  0.         0.         0.         0.         0.         0.\n",
      "  0.         0.         0.         0.        ]\n",
      " [0.         0.         0.         0.         0.         0.\n",
      "  0.         0.         0.         0.0253731  0.00171577 0.22713296\n",
      "  0.33153488 0.11664776 0.         0.         0.         0.\n",
      "  0.         0.         0.         0.         0.         0.\n",
      "  0.         0.         0.         0.        ]\n",
      " [0.         0.         0.         0.         0.         0.\n",
      "  0.         0.         0.         0.         0.         0.20500962\n",
      "  0.33153488 0.24625638 0.00291174 0.         0.         0.\n",
      "  0.         0.         0.         0.         0.         0.\n",
      "  0.         0.         0.         0.        ]\n",
      " [0.         0.         0.         0.         0.         0.\n",
      "  0.         0.         0.         0.         0.         0.01622378\n",
      "  0.24897876 0.32790981 0.10191096 0.         0.         0.\n",
      "  0.         0.         0.         0.         0.         0.\n",
      "  0.         0.         0.         0.        ]\n",
      " [0.         0.         0.         0.         0.         0.\n",
      "  0.         0.         0.         0.         0.         0.\n",
      "  0.04586451 0.31235677 0.32757096 0.23335172 0.14931733 0.00129164\n",
      "  0.         0.         0.         0.         0.         0.\n",
      "  0.         0.         0.         0.        ]\n",
      " [0.         0.         0.         0.         0.         0.\n",
      "  0.         0.         0.         0.         0.         0.\n",
      "  0.         0.10498298 0.34940902 0.3689874  0.34978968 0.15370495\n",
      "  0.04089933 0.         0.         0.         0.         0.\n",
      "  0.         0.         0.         0.        ]\n",
      " [0.         0.         0.         0.         0.         0.\n",
      "  0.         0.         0.         0.         0.         0.\n",
      "  0.         0.         0.06551419 0.27127137 0.34978968 0.32678448\n",
      "  0.245396   0.05882702 0.         0.         0.         0.\n",
      "  0.         0.         0.         0.        ]\n",
      " [0.         0.         0.         0.         0.         0.\n",
      "  0.         0.         0.         0.         0.         0.\n",
      "  0.         0.         0.         0.02333517 0.12857881 0.32549285\n",
      "  0.41390126 0.40743158 0.         0.         0.         0.\n",
      "  0.         0.         0.         0.        ]\n",
      " [0.         0.         0.         0.         0.         0.\n",
      "  0.         0.         0.         0.         0.         0.\n",
      "  0.         0.         0.         0.         0.         0.32161793\n",
      "  0.41390126 0.54251585 0.20001074 0.         0.         0.\n",
      "  0.         0.         0.         0.        ]\n",
      " [0.         0.         0.         0.         0.         0.\n",
      "  0.         0.         0.         0.         0.         0.\n",
      "  0.         0.         0.06697006 0.18959827 0.25300993 0.32678448\n",
      "  0.41390126 0.45100715 0.00625034 0.         0.         0.\n",
      "  0.         0.         0.         0.        ]\n",
      " [0.         0.         0.         0.         0.         0.\n",
      "  0.         0.         0.         0.         0.         0.\n",
      "  0.05110617 0.19182076 0.33339444 0.3689874  0.34978968 0.32678448\n",
      "  0.40899334 0.39653769 0.         0.         0.         0.\n",
      "  0.         0.         0.         0.        ]\n",
      " [0.         0.         0.         0.         0.         0.\n",
      "  0.         0.         0.         0.         0.04117838 0.16813739\n",
      "  0.28960162 0.32790981 0.36833534 0.3689874  0.34978968 0.25961929\n",
      "  0.12760592 0.         0.         0.         0.         0.\n",
      "  0.         0.         0.         0.        ]\n",
      " [0.         0.         0.         0.         0.         0.\n",
      "  0.         0.         0.04431706 0.11961607 0.36545809 0.37314701\n",
      "  0.33153488 0.32790981 0.36833534 0.28877275 0.111988   0.00258328\n",
      "  0.         0.         0.         0.         0.         0.\n",
      "  0.         0.         0.         0.        ]\n",
      " [0.         0.         0.         0.         0.         0.\n",
      "  0.05298497 0.42752138 0.4219755  0.45852825 0.43408872 0.37314701\n",
      "  0.33153488 0.25273681 0.11646967 0.01312603 0.         0.\n",
      "  0.         0.         0.         0.         0.         0.\n",
      "  0.         0.         0.         0.        ]\n",
      " [0.         0.         0.         0.         0.37491383 0.56222061\n",
      "  0.66525569 0.63253163 0.48748768 0.45852825 0.43408872 0.359873\n",
      "  0.17428513 0.01425695 0.         0.         0.         0.\n",
      "  0.         0.         0.         0.         0.         0.\n",
      "  0.         0.         0.         0.        ]\n",
      " [0.         0.         0.         0.         0.92705966 0.82698729\n",
      "  0.74473314 0.63253163 0.4084877  0.24466922 0.22648107 0.02359823\n",
      "  0.         0.         0.         0.         0.         0.\n",
      "  0.         0.         0.         0.         0.         0.\n",
      "  0.         0.         0.         0.        ]\n",
      " [0.         0.         0.         0.         0.         0.\n",
      "  0.         0.         0.         0.         0.         0.\n",
      "  0.         0.         0.         0.         0.         0.\n",
      "  0.         0.         0.         0.         0.         0.\n",
      "  0.         0.         0.         0.        ]\n",
      " [0.         0.         0.         0.         0.         0.\n",
      "  0.         0.         0.         0.         0.         0.\n",
      "  0.         0.         0.         0.         0.         0.\n",
      "  0.         0.         0.         0.         0.         0.\n",
      "  0.         0.         0.         0.        ]\n",
      " [0.         0.         0.         0.         0.         0.\n",
      "  0.         0.         0.         0.         0.         0.\n",
      "  0.         0.         0.         0.         0.         0.\n",
      "  0.         0.         0.         0.         0.         0.\n",
      "  0.         0.         0.         0.        ]]\n"
     ]
    }
   ],
   "source": [
    "print(X_train[0])"
   ]
  },
  {
   "cell_type": "code",
   "execution_count": 8,
   "metadata": {},
   "outputs": [
    {
     "data": {
      "image/png": "[encoded data removed]",
      "text/plain": [
       "<Figure size 432x288 with 1 Axes>"
      ]
     },
     "metadata": {},
     "output_type": "display_data"
    }
   ],
   "source": [
    "plt.imshow(X_train[9], cmap=plt.cm.binary)\n",
    "plt.show()"
   ]
  },
  {
   "cell_type": "code",
   "execution_count": 9,
   "metadata": {
    "collapsed": true
   },
   "outputs": [],
   "source": [
    "model = tf.keras.models.Sequential() # a feed-forward model\n",
    "model.add(tf.keras.layers.Flatten())\n",
    "model.add(tf.keras.layers.Dense(128, activation=tf.nn.relu))\n",
    "model.add(tf.keras.layers.Dense(128, activation=tf.nn.relu))\n",
    "model.add(tf.keras.layers.Dense(10, activation=tf.nn.softmax)) # prediction using the softmax function; we have \n",
    "# 10 labels 0 - 9..."
   ]
  },
  {
   "cell_type": "code",
   "execution_count": 10,
   "metadata": {
    "collapsed": true
   },
   "outputs": [],
   "source": [
    "model.compile(optimizer='adam', loss='sparse_categorical_crossentropy', metrics=['accuracy'])"
   ]
  },
  {
   "cell_type": "code",
   "execution_count": 11,
   "metadata": {},
   "outputs": [
    {
     "name": "stdout",
     "output_type": "stream",
     "text": [
      "Epoch 1/3\n",
      "60000/60000 [==============================] - 4s 71us/step - loss: 0.2622 - acc: 0.9230\n",
      "Epoch 2/3\n",
      "60000/60000 [==============================] - 4s 63us/step - loss: 0.1075 - acc: 0.9666\n",
      "Epoch 3/3\n",
      "60000/60000 [==============================] - 4s 63us/step - loss: 0.0734 - acc: 0.9764\n"
     ]
    },
    {
     "data": {
      "text/plain": [
       "<tensorflow.python.keras.callbacks.History at 0x10c3ecb00>"
      ]
     },
     "execution_count": 11,
     "metadata": {},
     "output_type": "execute_result"
    }
   ],
   "source": [
    "model.fit(X_train, y_train, epochs=3)"
   ]
  },
  {
   "cell_type": "code",
   "execution_count": 12,
   "metadata": {},
   "outputs": [
    {
     "name": "stdout",
     "output_type": "stream",
     "text": [
      "10000/10000 [==============================] - 0s 27us/step\n",
      "0.09554480643179268 0.9695\n"
     ]
    }
   ],
   "source": [
    "val_loss, val_acc = model.evaluate(X_test, y_test)\n",
    "print(val_loss, val_acc)"
   ]
  },
  {
   "cell_type": "code",
   "execution_count": 13,
   "metadata": {
    "collapsed": true
   },
   "outputs": [],
   "source": [
    "predictions = model.predict(X_test)"
   ]
  },
  {
   "cell_type": "code",
   "execution_count": 14,
   "metadata": {},
   "outputs": [
    {
     "name": "stdout",
     "output_type": "stream",
     "text": [
      "[[1.6634320e-10 1.0472867e-09 4.1171191e-07 ... 9.9993122e-01\n",
      "  1.8855504e-08 6.1240412e-06]\n",
      " [9.4815711e-09 4.1074618e-03 9.9588412e-01 ... 2.1830503e-07\n",
      "  8.5408971e-08 5.3965298e-11]\n",
      " [7.9500317e-09 9.9993074e-01 2.5996980e-07 ... 4.0455638e-05\n",
      "  2.1849053e-06 1.1056085e-05]\n",
      " ...\n",
      " [2.0743095e-10 1.5096373e-07 7.6259354e-08 ... 3.5570916e-05\n",
      "  1.8437447e-07 1.7262366e-05]\n",
      " [1.8887125e-06 7.2428893e-06 8.5332651e-08 ... 3.6393860e-07\n",
      "  8.1123908e-05 1.2521435e-08]\n",
      " [1.5319655e-07 2.3254449e-08 2.8760688e-08 ... 6.4091260e-11\n",
      "  3.2824694e-08 2.3834695e-10]]\n"
     ]
    }
   ],
   "source": [
    "print(predictions) # these values are the probability distributions\n",
    "#print(len(predictions))"
   ]
  },
  {
   "cell_type": "code",
   "execution_count": 15,
   "metadata": {},
   "outputs": [
    {
     "name": "stdout",
     "output_type": "stream",
     "text": [
      "9\n"
     ]
    }
   ],
   "source": [
    "import numpy as np\n",
    "print(np.argmax(predictions[9]))"
   ]
  },
  {
   "cell_type": "code",
   "execution_count": 16,
   "metadata": {},
   "outputs": [
    {
     "data": {
      "image/png": "[encoded data removed]",
      "text/plain": [
       "<Figure size 432x288 with 1 Axes>"
      ]
     },
     "metadata": {},
     "output_type": "display_data"
    }
   ],
   "source": [
    "plt.imshow(X_test[9], cmap=plt.cm.binary)\n",
    "plt.show()"
   ]
  },
  {
   "cell_type": "code",
   "execution_count": 17,
   "metadata": {},
   "outputs": [
    {
     "data": {
      "text/plain": [
       "(28, 28)"
      ]
     },
     "execution_count": 17,
     "metadata": {},
     "output_type": "execute_result"
    }
   ],
   "source": [
    "X_test[9].shape"
   ]
  },
  {
   "cell_type": "code",
   "execution_count": 32,
   "metadata": {},
   "outputs": [],
   "source": [
    "import cv2\n",
    "two = cv2.imread('Photos/two.jpg')\n",
    "# (thresh, im_bw) = cv2.threshold(two, 128, 255, cv2.THRESH_BINARY | cv2.THRESH_OTSU)\n",
    "# thresh = 127\n",
    "# im_bw = cv2.threshold(two, thresh, 255, cv2.THRESH_BINARY)[1]\n",
    "size = 28\n",
    "# two.shape\n",
    "# rez = cv2.resize(two, (size, size))\n",
    "# plt.imshow(rez)\n",
    "# # cv2.imshow('ImageWindow', two)\n",
    "# # cv2.waitKey()\n",
    "two = cv2.resize(two, (size,size))\n",
    "two.resize(1,size,size)\n"
   ]
  },
  {
   "cell_type": "code",
   "execution_count": 34,
   "metadata": {},
   "outputs": [
    {
     "name": "stdout",
     "output_type": "stream",
     "text": [
      "(1, 28, 28)\n"
     ]
    }
   ],
   "source": [
    "print(two.shape)"
   ]
  },
  {
   "cell_type": "code",
   "execution_count": 37,
   "metadata": {},
   "outputs": [],
   "source": [
    "im_bw = tf.keras.utils.normalize(two, axis=1)"
   ]
  },
  {
   "cell_type": "code",
   "execution_count": 38,
   "metadata": {},
   "outputs": [
    {
     "name": "stdout",
     "output_type": "stream",
     "text": [
      "[[[0.16898474 0.17136001 0.18304145 0.17795864 0.17702399 0.18864152\n",
      "   0.1724718  0.17491747 0.18514092 0.1689399  0.17105169 0.18143402\n",
      "   0.17394607 0.1764492  0.18712105 0.17614868 0.1788816  0.18822421\n",
      "   0.18091491 0.18217506 0.18937665 0.17832408 0.17752659 0.18729209\n",
      "   0.17865366 0.17705208 0.18778903 0.17442825]\n",
      "  [0.17961271 0.19051827 0.17983019 0.18335132 0.19429463 0.1788842\n",
      "   0.17889932 0.18994106 0.17550931 0.17749382 0.18922593 0.17396321\n",
      "   0.17608038 0.18821247 0.17322063 0.17292645 0.1853472  0.17752965\n",
      "   0.17984441 0.18963252 0.16949734 0.17098132 0.18277886 0.17159722\n",
      "   0.17546342 0.18553361 0.17717948 0.17651721]\n",
      "  [0.19024068 0.17881044 0.18197103 0.19413669 0.1845799  0.18647323\n",
      "   0.19603937 0.18672172 0.18835146 0.19887862 0.18708779 0.18890484\n",
      "   0.19955776 0.18286553 0.18498252 0.19655615 0.18965759 0.19036312\n",
      "   0.20125446 0.19495928 0.18937665 0.20035234 0.18382931 0.18519944\n",
      "   0.19885854 0.187654   0.18991094 0.19636235]\n",
      "  [0.17217313 0.17455305 0.1862527  0.12079617 0.12737092 0.13768663\n",
      "   0.17675681 0.17920993 0.18942164 0.1796323  0.18174242 0.19210661\n",
      "   0.17714753 0.18286553 0.19246736 0.1750746  0.1810368  0.18929366\n",
      "   0.1734214  0.17791366 0.18414525 0.17307925 0.17857704 0.18729209\n",
      "   0.17546342 0.18023265 0.18991094 0.17233929]\n",
      "  [0.1806755  0.19051827 0.17340769 0.18011571 0.18997697 0.18322079\n",
      "   0.18318433 0.19423351 0.18407074 0.18604774 0.19670944 0.18036676\n",
      "   0.1824833  0.19355942 0.18284399 0.18581537 0.19720079 0.18501584\n",
      "   0.19054944 0.19922068 0.18205269 0.18461787 0.1953843  0.18415312\n",
      "   0.18928781 0.19931611 0.18354521 0.1827841 ]\n",
      "  [0.19661746 0.18413218 0.18732312 0.19952938 0.1845799  0.18755738\n",
      "   0.19603937 0.18350238 0.18514092 0.1956709  0.18281149 0.1846358\n",
      "   0.19528915 0.18393492 0.18605178 0.19763022 0.1842696  0.18501584\n",
      "   0.19590195 0.18537112 0.18414525 0.19510752 0.17437523 0.17578252\n",
      "   0.18928781 0.17811227 0.18036234 0.1880065 ]\n",
      "  [0.18811508 0.18732523 0.19909771 0.18874401 0.18889755 0.19623055\n",
      "   0.18961185 0.18994106 0.19584271 0.19139394 0.19029501 0.20064468\n",
      "   0.18568476 0.18500431 0.19567515 0.19333391 0.19289039 0.20212713\n",
      "   0.19376094 0.19282858 0.19983945 0.1867158  0.18593022 0.19566269\n",
      "   0.19035122 0.18871419 0.19945953 0.1880065 ]\n",
      "  [0.19024068 0.20116175 0.18732312 0.18766547 0.19861229 0.20273543\n",
      "   0.19925313 0.21033021 0.19905324 0.19887862 0.20953832 0.18997209\n",
      "   0.18888623 0.19997575 0.19460589 0.19440799 0.20582159 0.19784931\n",
      "   0.19697245 0.20667814 0.19356177 0.19300959 0.20378792 0.19566269\n",
      "   0.19885854 0.20461707 0.19521571 0.19113994]\n",
      "  [0.20511984 0.19584001 0.19588646 0.20815768 0.19645346 0.19623055\n",
      "   0.2046094  0.19852597 0.19691289 0.20743254 0.20098574 0.19957742\n",
      "   0.2102293  0.19783698 0.19781368 0.20514876 0.19935599 0.19677985\n",
      "   0.20660697 0.19495928 0.19146921 0.19825441 0.19433384 0.19252371\n",
      "   0.20630244 0.19507534 0.19415476 0.20158475]\n",
      "  [0.19024068 0.18945392 0.20123855 0.19197962 0.19105638 0.20273543\n",
      "   0.19282561 0.19208729 0.20226378 0.19353242 0.19243315 0.2027792\n",
      "   0.18995338 0.18928186 0.1999522  0.18581537 0.18857999 0.19784931\n",
      "   0.18840843 0.18963252 0.19670061 0.18461787 0.18698067 0.19670901\n",
      "   0.18928781 0.19083457 0.20158144 0.17965066]\n",
      "  [0.18492669 0.19584001 0.19588646 0.19629377 0.2072476  0.19839884\n",
      "   0.19496812 0.20603776 0.19477253 0.19460166 0.20526203 0.19317387\n",
      "   0.19208769 0.20318392 0.18819031 0.19118576 0.20258879 0.19357148\n",
      "   0.19483145 0.20454744 0.18728409 0.18986269 0.20063656 0.18833841\n",
      "   0.19354147 0.20355688 0.1930938  0.19218442]\n",
      "  [0.20618263 0.19371131 0.19695688 0.20923621 0.20077112 0.20056714\n",
      "   0.20889442 0.19852597 0.19691289 0.20743254 0.19564037 0.19424113\n",
      "   0.20489353 0.19462881 0.19567515 0.20729692 0.19504559 0.19464094\n",
      "   0.20553647 0.19282858 0.18833037 0.19930338 0.19118248 0.19252371\n",
      "   0.20630244 0.19931611 0.19839858 0.20576267]\n",
      "  [0.18492669 0.18732523 0.19909771 0.1855084  0.18781814 0.19948299\n",
      "   0.19175436 0.1931604  0.20333396 0.18604774 0.18815686 0.19851017\n",
      "   0.18781907 0.18714309 0.19781368 0.18796353 0.19073519 0.19998822\n",
      "   0.18305592 0.18430577 0.19146921 0.18147097 0.18382931 0.19357004\n",
      "   0.19035122 0.18871419 0.19945953 0.18696202]\n",
      "  [0.18917788 0.2000974  0.18732312 0.19090108 0.20077112 0.1951464\n",
      "   0.19603937 0.20603776 0.19049181 0.19246318 0.20312388 0.19210661\n",
      "   0.19102053 0.20211453 0.19353662 0.19333391 0.20366639 0.18715475\n",
      "   0.18947893 0.19922068 0.18623781 0.18881373 0.19958611 0.18833841\n",
      "   0.19354147 0.20355688 0.19415476 0.1932289 ]\n",
      "  [0.20724543 0.18945392 0.19267521 0.20492207 0.19861229 0.19839884\n",
      "   0.20675191 0.19423351 0.19263217 0.20315558 0.20205481 0.20064468\n",
      "   0.21129646 0.20318392 0.20209073 0.21374138 0.19720079 0.19784931\n",
      "   0.20874798 0.20028604 0.19565433 0.20664614 0.19118248 0.19252371\n",
      "   0.20630244 0.19719572 0.19627667 0.20367371]\n",
      "  [0.18386389 0.18626088 0.1980273  0.18874401 0.19105638 0.20273543\n",
      "   0.18961185 0.18779483 0.19798307 0.18390926 0.18494964 0.19530839\n",
      "   0.18888623 0.18928186 0.19888294 0.19118576 0.19181279 0.20105767\n",
      "   0.18947893 0.18750182 0.19460805 0.18461787 0.18382931 0.19357004\n",
      "   0.19035122 0.18871419 0.19945953 0.18173962]\n",
      "  [0.18386389 0.19477566 0.18411186 0.18766547 0.19861229 0.18972567\n",
      "   0.18961185 0.20067219 0.19156199 0.19353242 0.20419296 0.1846358\n",
      "   0.18781907 0.19890637 0.18070547 0.18366722 0.19504559 0.18822421\n",
      "   0.19054944 0.20028604 0.18833037 0.19091166 0.20168701 0.17996782\n",
      "   0.18503415 0.19507534 0.18778903 0.1880065 ]\n",
      "  [0.20086865 0.18945392 0.19267521 0.20492207 0.19429463 0.1973147\n",
      "   0.20568066 0.18994106 0.19156199 0.20208634 0.19350223 0.19530839\n",
      "   0.20596069 0.1956982  0.19781368 0.20944507 0.19396799 0.19250203\n",
      "   0.20446597 0.19495928 0.19356177 0.20454821 0.18803112 0.18938474\n",
      "   0.2031122  0.18977438 0.19203285 0.19949579]\n",
      "  [0.18598949 0.18519653 0.19695688 0.18874401 0.18781814 0.19948299\n",
      "   0.1885406  0.18779483 0.19798307 0.18818622 0.18708779 0.19744291\n",
      "   0.18995338 0.18928186 0.1999522  0.18688945 0.18965759 0.19891876\n",
      "   0.18519692 0.18750182 0.19356177 0.18251994 0.18487976 0.19461636\n",
      "   0.18609757 0.18447342 0.19521571 0.18696202]\n",
      "  [0.18917788 0.2000974  0.1862527  0.18658693 0.19753287 0.18972567\n",
      "   0.18961185 0.20067219 0.18728128 0.18604774 0.19670944 0.19424113\n",
      "   0.19208769 0.20318392 0.18712105 0.19011168 0.20151119 0.19036312\n",
      "   0.19054944 0.20028604 0.17996014 0.18251994 0.19328339 0.18938474\n",
      "   0.19354147 0.20355688 0.18991094 0.19009546]\n",
      "  [0.20299424 0.18945392 0.18946395 0.20168645 0.18997697 0.19297811\n",
      "   0.20139564 0.18994106 0.19156199 0.20208634 0.19350223 0.19530839\n",
      "   0.20596069 0.19035125 0.19246736 0.20407469 0.19396799 0.19143257\n",
      "   0.20232496 0.19602463 0.19146921 0.20245028 0.19118248 0.18938474\n",
      "   0.2031122  0.19931611 0.19839858 0.20576267]\n",
      "  [0.18386389 0.18306783 0.19481604 0.18658693 0.18565931 0.1973147\n",
      "   0.1885406  0.18779483 0.19798307 0.18604774 0.18494964 0.19530839\n",
      "   0.18888623 0.18821247 0.19888294 0.18151906 0.1842696  0.19357148\n",
      "   0.18519692 0.18643647 0.19356177 0.17937304 0.1817284  0.19252371\n",
      "   0.17971708 0.18129284 0.19203285 0.17338377]\n",
      "  [0.17854991 0.18945392 0.14343599 0.14560252 0.15651512 0.03577684\n",
      "   0.03428011 0.03863208 0.0353159  0.03421568 0.03848663 0.03948858\n",
      "   0.03948469 0.04277556 0.03100863 0.03007416 0.0344832  0.18180747\n",
      "   0.18412642 0.19389393 0.18519153 0.18776476 0.19853566 0.18938474\n",
      "   0.19141464 0.2003763  0.18884998 0.18487306]\n",
      "  [0.19874305 0.19477566 0.19481604 0.20707914 0.19105638 0.19080982\n",
      "   0.19925313 0.18886795 0.19049181 0.2010171  0.18922593 0.19103935\n",
      "   0.20169207 0.19142064 0.19353662 0.20514876 0.19181279 0.19143257\n",
      "   0.20232496 0.19282858 0.18833037 0.19930338 0.18908158 0.18729209\n",
      "   0.20098537 0.19401515 0.1930938  0.20054027]\n",
      "  [0.1817383  0.18093914 0.19267521 0.18442986 0.18673873 0.19839884\n",
      "   0.18425559 0.18350238 0.19370235 0.18711698 0.18601871 0.19637565\n",
      "   0.18461761 0.18714309 0.19781368 0.1847413  0.1875024  0.19677985\n",
      "   0.18091491 0.18217506 0.18937665 0.17832408 0.18067795 0.19043106\n",
      "   0.04253659 0.04240768 0.0424382  0.17756169]\n",
      "  [0.1828011  0.19371131 0.17983019 0.18335132 0.19429463 0.18647323\n",
      "   0.18639809 0.19745285 0.1862111  0.18818622 0.19884759 0.18997209\n",
      "   0.19208769 0.20318392 0.18177473 0.1847413  0.19612319 0.03743095\n",
      "   0.03639708 0.04048335 0.18414525 0.1867158  0.1974852  0.18833841\n",
      "   0.19035122 0.2003763  0.18884998 0.18487306]\n",
      "  [0.19874305 0.18945392 0.18946395 0.20168645 0.18997697 0.18972567\n",
      "   0.19818188 0.19530663 0.19370235 0.20422482 0.18922593 0.18783758\n",
      "   0.19849061 0.1956982  0.19353662 0.20514876 0.18965759 0.18929366\n",
      "   0.20018396 0.18856717 0.18728409 0.19825441 0.18803112 0.18938474\n",
      "   0.2031122  0.19189476 0.19415476 0.20158475]\n",
      "  [0.17854991 0.18093914 0.19267521 0.18119425 0.18350048 0.1951464\n",
      "   0.17782807 0.18028304 0.19049181 0.18284002 0.18281149 0.19317387\n",
      "   0.1824833  0.18500431 0.19567515 0.18259314 0.1821144  0.19143257\n",
      "   0.18198542 0.18324042 0.19042293 0.17622615 0.17857704 0.18833841\n",
      "   0.17652683 0.17811227 0.18884998 0.17651721]]]\n"
     ]
    }
   ],
   "source": [
    "print(im_bw)"
   ]
  },
  {
   "cell_type": "code",
   "execution_count": 40,
   "metadata": {},
   "outputs": [],
   "source": [
    "x = model.predict(im_bw)"
   ]
  },
  {
   "cell_type": "code",
   "execution_count": 41,
   "metadata": {},
   "outputs": [
    {
     "name": "stdout",
     "output_type": "stream",
     "text": [
      "5\n"
     ]
    }
   ],
   "source": [
    "print(np.argmax(x))"
   ]
  },
  {
   "cell_type": "code",
   "execution_count": null,
   "metadata": {
    "collapsed": true
   },
   "outputs": [],
   "source": []
  }
 ],
 "metadata": {
  "kernelspec": {
   "display_name": "NLP",
   "language": "python",
   "name": "nlp"
  },
  "language_info": {
   "codemirror_mode": {
    "name": "ipython",
    "version": 3
   },
   "file_extension": ".py",
   "mimetype": "text/x-python",
   "name": "python",
   "nbconvert_exporter": "python",
   "pygments_lexer": "ipython3",
   "version": "3.6.4"
  }
 },
 "nbformat": 4,
 "nbformat_minor": 2
}

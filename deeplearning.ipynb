{
 "cells": [
  {
   "cell_type": "code",
   "execution_count": 98,
   "metadata": {},
   "outputs": [
    {
     "name": "stdout",
     "output_type": "stream",
     "text": [
      "1.10.0\n"
     ]
    }
   ],
   "source": [
    "import tensorflow.keras as keras\n",
    "import tensorflow as tf\n",
    "\n",
    "print(tf.__version__)"
   ]
  },
  {
   "cell_type": "code",
   "execution_count": 99,
   "metadata": {
    "collapsed": true
   },
   "outputs": [],
   "source": [
    "mnist = tf.keras.datasets.mnist\n",
    "(X_train, y_train), (X_test, y_test) = mnist.load_data()"
   ]
  },
  {
   "cell_type": "code",
   "execution_count": 100,
   "metadata": {},
   "outputs": [
    {
     "name": "stdout",
     "output_type": "stream",
     "text": [
      "[[  0   0   0   0   0   0   0   0   0   0   0   0   0   0   0   0   0   0\n",
      "    0   0   0   0   0   0   0   0   0   0]\n",
      " [  0   0   0   0   0   0   0   0   0   0   0   0   0   0   0   0   0   0\n",
      "    0   0   0   0   0   0   0   0   0   0]\n",
      " [  0   0   0   0   0   0   0   0   0   0   0   0   0   0   0   0   0   0\n",
      "    0   0   0   0   0   0   0   0   0   0]\n",
      " [  0   0   0   0   0   0   0   0   0   0   0   0   0   0   0   0   0   0\n",
      "    0   0   0   0   0   0   0   0   0   0]\n",
      " [  0   0   0   0   0   0   0   0   0   0   0   0   0   0   0   0   0   0\n",
      "    0   0   0   0 189 190   0   0   0   0]\n",
      " [  0   0   0   0   0   0   0   0   0   0   0   0   0   0   0   0   0   0\n",
      "    0   0   0 143 247 153   0   0   0   0]\n",
      " [  0   0   0   0   0   0   0   0   0   0   0   0   0   0   0   0   0   0\n",
      "    0   0 136 247 242  86   0   0   0   0]\n",
      " [  0   0   0   0   0   0   0   0   0   0   0   0   0   0   0   0   0   0\n",
      "    0   0 192 252 187   0   0   0   0   0]\n",
      " [  0   0   0   0   0   0   0   0   0   0   0   0  62 185  18   0   0   0\n",
      "    0  89 236 217  47   0   0   0   0   0]\n",
      " [  0   0   0   0   0   0   0   0   0   0   0   0 216 253  60   0   0   0\n",
      "    0 212 255  81   0   0   0   0   0   0]\n",
      " [  0   0   0   0   0   0   0   0   0   0   0   0 206 252  68   0   0   0\n",
      "   48 242 253  89   0   0   0   0   0   0]\n",
      " [  0   0   0   0   0   0   0   0   0   0   0 131 251 212  21   0   0  11\n",
      "  167 252 197   5   0   0   0   0   0   0]\n",
      " [  0   0   0   0   0   0   0   0   0   0  29 232 247  63   0   0   0 153\n",
      "  252 226   0   0   0   0   0   0   0   0]\n",
      " [  0   0   0   0   0   0   0   0   0  45 219 252 143   0   0   0 116 249\n",
      "  252 103   0   0   0   0   0   0   0   0]\n",
      " [  0   0   0   0   0   0   0   4  96 253 255 253 200 122   7  25 201 250\n",
      "  158   0   0   0   0   0   0   0   0   0]\n",
      " [  0   0   0   0   0   0   0  92 252 252 253 217 252 252 200 227 252 231\n",
      "    0   0   0   0   0   0   0   0   0   0]\n",
      " [  0   0   0   0   0   0  87 251 247 231  65  48 189 252 252 253 252 251\n",
      "  227  35   0   0   0   0   0   0   0   0]\n",
      " [  0   0   0   0   0   0 190 221  98   0   0   0  42 196 252 253 252 252\n",
      "  162   0   0   0   0   0   0   0   0   0]\n",
      " [  0   0   0   0   0   0 111  29   0   0   0   0  62 239 252  86  42  42\n",
      "   14   0   0   0   0   0   0   0   0   0]\n",
      " [  0   0   0   0   0   0   0   0   0   0   0  15 148 253 218   0   0   0\n",
      "    0   0   0   0   0   0   0   0   0   0]\n",
      " [  0   0   0   0   0   0   0   0   0   0   0 121 252 231  28   0   0   0\n",
      "    0   0   0   0   0   0   0   0   0   0]\n",
      " [  0   0   0   0   0   0   0   0   0   0  31 221 251 129   0   0   0   0\n",
      "    0   0   0   0   0   0   0   0   0   0]\n",
      " [  0   0   0   0   0   0   0   0   0   0 218 252 160   0   0   0   0   0\n",
      "    0   0   0   0   0   0   0   0   0   0]\n",
      " [  0   0   0   0   0   0   0   0   0   0 122 252  82   0   0   0   0   0\n",
      "    0   0   0   0   0   0   0   0   0   0]\n",
      " [  0   0   0   0   0   0   0   0   0   0   0   0   0   0   0   0   0   0\n",
      "    0   0   0   0   0   0   0   0   0   0]\n",
      " [  0   0   0   0   0   0   0   0   0   0   0   0   0   0   0   0   0   0\n",
      "    0   0   0   0   0   0   0   0   0   0]\n",
      " [  0   0   0   0   0   0   0   0   0   0   0   0   0   0   0   0   0   0\n",
      "    0   0   0   0   0   0   0   0   0   0]\n",
      " [  0   0   0   0   0   0   0   0   0   0   0   0   0   0   0   0   0   0\n",
      "    0   0   0   0   0   0   0   0   0   0]]\n"
     ]
    }
   ],
   "source": [
    "print(X_train[9]) # contains the image pixel values "
   ]
  },
  {
   "cell_type": "code",
   "execution_count": 101,
   "metadata": {},
   "outputs": [
    {
     "name": "stdout",
     "output_type": "stream",
     "text": [
      "4\n"
     ]
    }
   ],
   "source": [
    "print(y_train[9]) # contains the label 0-9 the number the pixels corresponds"
   ]
  },
  {
   "cell_type": "code",
   "execution_count": 102,
   "metadata": {},
   "outputs": [
    {
     "data": {
      "image/png": "[encoded data removed]",
      "text/plain": [
       "<Figure size 432x288 with 1 Axes>"
      ]
     },
     "metadata": {},
     "output_type": "display_data"
    }
   ],
   "source": [
    "import matplotlib.pyplot as plt\n",
    "\n",
    "plt.imshow(X_train[9], cmap=plt.cm.binary)\n",
    "plt.show()"
   ]
  },
  {
   "cell_type": "code",
   "execution_count": 103,
   "metadata": {
    "collapsed": true
   },
   "outputs": [],
   "source": [
    "# earlier we had matrix values ranging from 0 to 254 so we normalized our values to come in between 0 and 1 as it would be more helpful for our nueral network\n",
    "X_train = tf.keras.utils.normalize(X_train, axis=1) \n",
    "X_test = tf.keras.utils.normalize(X_test, axis=1)\n"
   ]
  },
  {
   "cell_type": "code",
   "execution_count": 104,
   "metadata": {},
   "outputs": [
    {
     "name": "stdout",
     "output_type": "stream",
     "text": [
      "[[0.         0.         0.         0.         0.         0.\n",
      "  0.         0.         0.         0.         0.         0.\n",
      "  0.         0.         0.         0.         0.         0.\n",
      "  0.         0.         0.         0.         0.         0.\n",
      "  0.         0.         0.         0.        ]\n",
      " [0.         0.         0.         0.         0.         0.\n",
      "  0.         0.         0.         0.         0.         0.\n",
      "  0.         0.         0.         0.         0.         0.\n",
      "  0.         0.         0.         0.         0.         0.\n",
      "  0.         0.         0.         0.        ]\n",
      " [0.         0.         0.         0.         0.         0.\n",
      "  0.         0.         0.         0.         0.         0.\n",
      "  0.         0.         0.         0.         0.         0.\n",
      "  0.         0.         0.         0.         0.         0.\n",
      "  0.         0.         0.         0.        ]\n",
      " [0.         0.         0.         0.         0.         0.\n",
      "  0.         0.         0.         0.         0.         0.\n",
      "  0.         0.         0.         0.         0.         0.\n",
      "  0.         0.         0.         0.         0.         0.\n",
      "  0.         0.         0.         0.        ]\n",
      " [0.         0.         0.         0.         0.         0.\n",
      "  0.         0.         0.         0.         0.         0.\n",
      "  0.         0.         0.         0.         0.         0.\n",
      "  0.         0.         0.         0.         0.         0.\n",
      "  0.         0.         0.         0.        ]\n",
      " [0.         0.         0.         0.         0.         0.\n",
      "  0.         0.         0.         0.         0.         0.\n",
      "  0.00393124 0.02332955 0.02620568 0.02625207 0.17420356 0.17566281\n",
      "  0.28629534 0.05664824 0.51877786 0.71632322 0.77892406 0.89301644\n",
      "  0.         0.         0.         0.        ]\n",
      " [0.         0.         0.         0.         0.         0.\n",
      "  0.         0.         0.05780486 0.06524513 0.16128198 0.22713296\n",
      "  0.22277047 0.32790981 0.36833534 0.3689874  0.34978968 0.32678448\n",
      "  0.368094   0.3747499  0.79066747 0.67980478 0.61494005 0.45002403\n",
      "  0.         0.         0.         0.        ]\n",
      " [0.         0.         0.         0.         0.         0.\n",
      "  0.         0.12250613 0.45858525 0.45852825 0.43408872 0.37314701\n",
      "  0.33153488 0.32790981 0.36833534 0.3689874  0.34978968 0.32420121\n",
      "  0.15214552 0.17865984 0.25626376 0.1573102  0.12298801 0.\n",
      "  0.         0.         0.         0.        ]\n",
      " [0.         0.         0.         0.         0.         0.\n",
      "  0.         0.04500225 0.4219755  0.45852825 0.43408872 0.37314701\n",
      "  0.33153488 0.32790981 0.28826244 0.26543758 0.34149427 0.31128482\n",
      "  0.         0.         0.         0.         0.         0.\n",
      "  0.         0.         0.         0.        ]\n",
      " [0.         0.         0.         0.         0.         0.\n",
      "  0.         0.         0.1541463  0.28272888 0.18358693 0.37314701\n",
      "  0.33153488 0.26569767 0.01601458 0.         0.05945042 0.19891229\n",
      "  0.         0.         0.         0.         0.         0.\n",
      "  0.         0.         0.         0.        ]\n",
      " [0.         0.         0.         0.         0.         0.\n",
      "  0.         0.         0.         0.0253731  0.00171577 0.22713296\n",
      "  0.33153488 0.11664776 0.         0.         0.         0.\n",
      "  0.         0.         0.         0.         0.         0.\n",
      "  0.         0.         0.         0.        ]\n",
      " [0.         0.         0.         0.         0.         0.\n",
      "  0.         0.         0.         0.         0.         0.20500962\n",
      "  0.33153488 0.24625638 0.00291174 0.         0.         0.\n",
      "  0.         0.         0.         0.         0.         0.\n",
      "  0.         0.         0.         0.        ]\n",
      " [0.         0.         0.         0.         0.         0.\n",
      "  0.         0.         0.         0.         0.         0.01622378\n",
      "  0.24897876 0.32790981 0.10191096 0.         0.         0.\n",
      "  0.         0.         0.         0.         0.         0.\n",
      "  0.         0.         0.         0.        ]\n",
      " [0.         0.         0.         0.         0.         0.\n",
      "  0.         0.         0.         0.         0.         0.\n",
      "  0.04586451 0.31235677 0.32757096 0.23335172 0.14931733 0.00129164\n",
      "  0.         0.         0.         0.         0.         0.\n",
      "  0.         0.         0.         0.        ]\n",
      " [0.         0.         0.         0.         0.         0.\n",
      "  0.         0.         0.         0.         0.         0.\n",
      "  0.         0.10498298 0.34940902 0.3689874  0.34978968 0.15370495\n",
      "  0.04089933 0.         0.         0.         0.         0.\n",
      "  0.         0.         0.         0.        ]\n",
      " [0.         0.         0.         0.         0.         0.\n",
      "  0.         0.         0.         0.         0.         0.\n",
      "  0.         0.         0.06551419 0.27127137 0.34978968 0.32678448\n",
      "  0.245396   0.05882702 0.         0.         0.         0.\n",
      "  0.         0.         0.         0.        ]\n",
      " [0.         0.         0.         0.         0.         0.\n",
      "  0.         0.         0.         0.         0.         0.\n",
      "  0.         0.         0.         0.02333517 0.12857881 0.32549285\n",
      "  0.41390126 0.40743158 0.         0.         0.         0.\n",
      "  0.         0.         0.         0.        ]\n",
      " [0.         0.         0.         0.         0.         0.\n",
      "  0.         0.         0.         0.         0.         0.\n",
      "  0.         0.         0.         0.         0.         0.32161793\n",
      "  0.41390126 0.54251585 0.20001074 0.         0.         0.\n",
      "  0.         0.         0.         0.        ]\n",
      " [0.         0.         0.         0.         0.         0.\n",
      "  0.         0.         0.         0.         0.         0.\n",
      "  0.         0.         0.06697006 0.18959827 0.25300993 0.32678448\n",
      "  0.41390126 0.45100715 0.00625034 0.         0.         0.\n",
      "  0.         0.         0.         0.        ]\n",
      " [0.         0.         0.         0.         0.         0.\n",
      "  0.         0.         0.         0.         0.         0.\n",
      "  0.05110617 0.19182076 0.33339444 0.3689874  0.34978968 0.32678448\n",
      "  0.40899334 0.39653769 0.         0.         0.         0.\n",
      "  0.         0.         0.         0.        ]\n",
      " [0.         0.         0.         0.         0.         0.\n",
      "  0.         0.         0.         0.         0.04117838 0.16813739\n",
      "  0.28960162 0.32790981 0.36833534 0.3689874  0.34978968 0.25961929\n",
      "  0.12760592 0.         0.         0.         0.         0.\n",
      "  0.         0.         0.         0.        ]\n",
      " [0.         0.         0.         0.         0.         0.\n",
      "  0.         0.         0.04431706 0.11961607 0.36545809 0.37314701\n",
      "  0.33153488 0.32790981 0.36833534 0.28877275 0.111988   0.00258328\n",
      "  0.         0.         0.         0.         0.         0.\n",
      "  0.         0.         0.         0.        ]\n",
      " [0.         0.         0.         0.         0.         0.\n",
      "  0.05298497 0.42752138 0.4219755  0.45852825 0.43408872 0.37314701\n",
      "  0.33153488 0.25273681 0.11646967 0.01312603 0.         0.\n",
      "  0.         0.         0.         0.         0.         0.\n",
      "  0.         0.         0.         0.        ]\n",
      " [0.         0.         0.         0.         0.37491383 0.56222061\n",
      "  0.66525569 0.63253163 0.48748768 0.45852825 0.43408872 0.359873\n",
      "  0.17428513 0.01425695 0.         0.         0.         0.\n",
      "  0.         0.         0.         0.         0.         0.\n",
      "  0.         0.         0.         0.        ]\n",
      " [0.         0.         0.         0.         0.92705966 0.82698729\n",
      "  0.74473314 0.63253163 0.4084877  0.24466922 0.22648107 0.02359823\n",
      "  0.         0.         0.         0.         0.         0.\n",
      "  0.         0.         0.         0.         0.         0.\n",
      "  0.         0.         0.         0.        ]\n",
      " [0.         0.         0.         0.         0.         0.\n",
      "  0.         0.         0.         0.         0.         0.\n",
      "  0.         0.         0.         0.         0.         0.\n",
      "  0.         0.         0.         0.         0.         0.\n",
      "  0.         0.         0.         0.        ]\n",
      " [0.         0.         0.         0.         0.         0.\n",
      "  0.         0.         0.         0.         0.         0.\n",
      "  0.         0.         0.         0.         0.         0.\n",
      "  0.         0.         0.         0.         0.         0.\n",
      "  0.         0.         0.         0.        ]\n",
      " [0.         0.         0.         0.         0.         0.\n",
      "  0.         0.         0.         0.         0.         0.\n",
      "  0.         0.         0.         0.         0.         0.\n",
      "  0.         0.         0.         0.         0.         0.\n",
      "  0.         0.         0.         0.        ]]\n"
     ]
    }
   ],
   "source": [
    "print(X_train[0])"
   ]
  },
  {
   "cell_type": "code",
   "execution_count": 105,
   "metadata": {},
   "outputs": [
    {
     "data": {
      "image/png": "[encoded data removed]",
      "text/plain": [
       "<Figure size 432x288 with 1 Axes>"
      ]
     },
     "metadata": {},
     "output_type": "display_data"
    }
   ],
   "source": [
    "plt.imshow(X_train[9], cmap=plt.cm.binary)\n",
    "plt.show()"
   ]
  },
  {
   "cell_type": "code",
   "execution_count": 106,
   "metadata": {
    "collapsed": true
   },
   "outputs": [],
   "source": [
    "model = tf.keras.models.Sequential() # a feed-forward model\n",
    "model.add(tf.keras.layers.Flatten())\n",
    "model.add(tf.keras.layers.Dense(128, activation=tf.nn.relu))\n",
    "model.add(tf.keras.layers.Dense(128, activation=tf.nn.relu))\n",
    "model.add(tf.keras.layers.Dense(10, activation=tf.nn.softmax)) # prediction using the softmax function; we have \n",
    "# 10 labels 0 - 9..."
   ]
  },
  {
   "cell_type": "code",
   "execution_count": 107,
   "metadata": {
    "collapsed": true
   },
   "outputs": [],
   "source": [
    "model.compile(optimizer='adam', loss='sparse_categorical_crossentropy', metrics=['accuracy'])"
   ]
  },
  {
   "cell_type": "code",
   "execution_count": 108,
   "metadata": {},
   "outputs": [
    {
     "name": "stdout",
     "output_type": "stream",
     "text": [
      "Epoch 1/3\n",
      "60000/60000 [==============================] - 4s 74us/step - loss: 0.2586 - acc: 0.9244\n",
      "Epoch 2/3\n",
      "60000/60000 [==============================] - 4s 68us/step - loss: 0.1057 - acc: 0.9673\n",
      "Epoch 3/3\n",
      "60000/60000 [==============================] - 4s 70us/step - loss: 0.0740 - acc: 0.9768\n"
     ]
    },
    {
     "data": {
      "text/plain": [
       "<tensorflow.python.keras.callbacks.History at 0x114964ac8>"
      ]
     },
     "execution_count": 108,
     "metadata": {},
     "output_type": "execute_result"
    }
   ],
   "source": [
    "model.fit(X_train, y_train, epochs=3)"
   ]
  },
  {
   "cell_type": "code",
   "execution_count": 109,
   "metadata": {},
   "outputs": [
    {
     "name": "stdout",
     "output_type": "stream",
     "text": [
      "10000/10000 [==============================] - 0s 29us/step\n",
      "0.09429696952644735 0.9714\n"
     ]
    }
   ],
   "source": [
    "val_loss, val_acc = model.evaluate(X_test, y_test)\n",
    "print(val_loss, val_acc)"
   ]
  },
  {
   "cell_type": "code",
   "execution_count": 110,
   "metadata": {
    "collapsed": true
   },
   "outputs": [],
   "source": [
    "predictions = model.predict(X_test)"
   ]
  },
  {
   "cell_type": "code",
   "execution_count": 111,
   "metadata": {},
   "outputs": [
    {
     "name": "stdout",
     "output_type": "stream",
     "text": [
      "[[4.28370805e-09 9.81207204e-09 5.01486102e-06 ... 9.99989629e-01\n",
      "  1.01710755e-08 1.26950295e-06]\n",
      " [3.63006798e-08 5.27657103e-05 9.99941230e-01 ... 7.44909423e-09\n",
      "  5.13637929e-07 2.23559799e-11]\n",
      " [1.15914105e-07 9.99927163e-01 1.10637347e-05 ... 2.63007005e-05\n",
      "  2.62074591e-05 2.21837041e-07]\n",
      " ...\n",
      " [3.58479846e-09 3.86024738e-07 9.34566629e-08 ... 2.32093462e-05\n",
      "  3.75847640e-06 4.48026367e-05]\n",
      " [7.79516469e-08 3.33684813e-09 3.21603744e-09 ... 2.12830908e-08\n",
      "  1.12993075e-05 5.03528641e-09]\n",
      " [8.31390389e-06 7.02419186e-07 1.94680098e-07 ... 2.92539985e-11\n",
      "  7.15753856e-08 1.42320138e-08]]\n"
     ]
    }
   ],
   "source": [
    "print(predictions) # these values are the probability distributions\n",
    "#print(len(predictions))"
   ]
  },
  {
   "cell_type": "code",
   "execution_count": 112,
   "metadata": {},
   "outputs": [
    {
     "name": "stdout",
     "output_type": "stream",
     "text": [
      "9\n"
     ]
    }
   ],
   "source": [
    "import numpy as np\n",
    "print(np.argmax(predictions[9]))"
   ]
  },
  {
   "cell_type": "code",
   "execution_count": 113,
   "metadata": {},
   "outputs": [
    {
     "data": {
      "image/png": "[encoded data removed]",
      "text/plain": [
       "<Figure size 432x288 with 1 Axes>"
      ]
     },
     "metadata": {},
     "output_type": "display_data"
    }
   ],
   "source": [
    "plt.imshow(X_test[9], cmap=plt.cm.binary)\n",
    "plt.show()"
   ]
  },
  {
   "cell_type": "code",
   "execution_count": 114,
   "metadata": {},
   "outputs": [
    {
     "data": {
      "text/plain": [
       "(28, 28)"
      ]
     },
     "execution_count": 114,
     "metadata": {},
     "output_type": "execute_result"
    }
   ],
   "source": [
    "X_test[9].shape"
   ]
  },
  {
   "cell_type": "code",
   "execution_count": 115,
   "metadata": {},
   "outputs": [],
   "source": [
    "import cv2\n",
    "two = cv2.imread('two.jpg', cv2.IMREAD_GRAYSCALE)\n",
    "(thresh, im_bw) = cv2.threshold(two, 128, 255, cv2.THRESH_BINARY | cv2.THRESH_OTSU)\n",
    "thresh = 127\n",
    "im_bw = cv2.threshold(two, thresh, 255, cv2.THRESH_BINARY)[1]\n",
    "size = 28\n",
    "# two.shape\n",
    "# rez = cv2.resize(two, (size, size))\n",
    "# plt.imshow(rez)\n",
    "# # cv2.imshow('ImageWindow', two)\n",
    "# # cv2.waitKey()\n",
    "im_bw.resize(dsize,size)"
   ]
  },
  {
   "cell_type": "code",
   "execution_count": 147,
   "metadata": {},
   "outputs": [
    {
     "name": "stdout",
     "output_type": "stream",
     "text": [
      "(28, 28)\n"
     ]
    }
   ],
   "source": [
    "print(im_bw.shape)"
   ]
  },
  {
   "cell_type": "code",
   "execution_count": 148,
   "metadata": {},
   "outputs": [],
   "source": [
    "im_bw = tf.keras.utils.normalize(rez, axis=1)"
   ]
  },
  {
   "cell_type": "code",
   "execution_count": 149,
   "metadata": {},
   "outputs": [
    {
     "name": "stdout",
     "output_type": "stream",
     "text": [
      "[[0.18898224 0.18898224 0.18898224 0.18898224 0.18898224 0.18898224\n",
      "  0.18898224 0.18898224 0.18898224 0.18898224 0.18898224 0.18898224\n",
      "  0.18898224 0.18898224 0.18898224 0.18898224 0.18898224 0.18898224\n",
      "  0.18898224 0.18898224 0.18898224 0.18898224 0.18898224 0.18898224\n",
      "  0.18898224 0.18898224 0.18898224 0.18898224]\n",
      " [0.18898224 0.18898224 0.18898224 0.18898224 0.18898224 0.18898224\n",
      "  0.18898224 0.18898224 0.18898224 0.18898224 0.18898224 0.18898224\n",
      "  0.18898224 0.18898224 0.18898224 0.18898224 0.18898224 0.18898224\n",
      "  0.18898224 0.18898224 0.18898224 0.18898224 0.18898224 0.18898224\n",
      "  0.18898224 0.18898224 0.18898224 0.18898224]\n",
      " [0.18898224 0.18898224 0.18898224 0.18898224 0.18898224 0.18898224\n",
      "  0.18898224 0.18898224 0.18898224 0.18898224 0.18898224 0.18898224\n",
      "  0.18898224 0.18898224 0.18898224 0.18898224 0.18898224 0.18898224\n",
      "  0.18898224 0.18898224 0.18898224 0.18898224 0.18898224 0.18898224\n",
      "  0.18898224 0.18898224 0.18898224 0.18898224]\n",
      " [0.18898224 0.18898224 0.18898224 0.18898224 0.18898224 0.18898224\n",
      "  0.18898224 0.18898224 0.18898224 0.18898224 0.18898224 0.18898224\n",
      "  0.18898224 0.18898224 0.18898224 0.18898224 0.18898224 0.18898224\n",
      "  0.18898224 0.18898224 0.18898224 0.18898224 0.18898224 0.18898224\n",
      "  0.18898224 0.18898224 0.18898224 0.18898224]\n",
      " [0.18898224 0.18898224 0.18898224 0.18898224 0.18898224 0.18898224\n",
      "  0.18898224 0.18898224 0.18898224 0.18898224 0.18898224 0.18898224\n",
      "  0.18898224 0.18898224 0.18898224 0.18898224 0.18898224 0.18898224\n",
      "  0.18898224 0.18898224 0.18898224 0.18898224 0.18898224 0.18898224\n",
      "  0.18898224 0.18898224 0.18898224 0.18898224]\n",
      " [0.18898224 0.18898224 0.18898224 0.18898224 0.18898224 0.18898224\n",
      "  0.18898224 0.18898224 0.18898224 0.18898224 0.18898224 0.18898224\n",
      "  0.18898224 0.18898224 0.18898224 0.18898224 0.18898224 0.18898224\n",
      "  0.18898224 0.18898224 0.18898224 0.18898224 0.18898224 0.18898224\n",
      "  0.18898224 0.18898224 0.18898224 0.18898224]\n",
      " [0.18898224 0.18898224 0.18898224 0.18898224 0.18898224 0.18898224\n",
      "  0.18898224 0.18898224 0.18898224 0.18898224 0.18898224 0.18898224\n",
      "  0.18898224 0.18898224 0.18898224 0.18898224 0.18898224 0.18898224\n",
      "  0.18898224 0.18898224 0.18898224 0.18898224 0.18898224 0.18898224\n",
      "  0.18898224 0.18898224 0.18898224 0.18898224]\n",
      " [0.2        0.2        0.2        0.2        0.2        0.2\n",
      "  0.2        0.2        0.2        0.         0.         0.2\n",
      "  0.2        0.         0.2        0.2        0.2        0.2\n",
      "  0.2        0.2        0.2        0.2        0.2        0.2\n",
      "  0.2        0.2        0.2        0.2       ]\n",
      " [0.19611614 0.19611614 0.19611614 0.19611614 0.19611614 0.19611614\n",
      "  0.19611614 0.19611614 0.         0.19611614 0.19611614 0.19611614\n",
      "  0.19611614 0.19611614 0.         0.19611614 0.19611614 0.19611614\n",
      "  0.19611614 0.19611614 0.19611614 0.19611614 0.19611614 0.19611614\n",
      "  0.19611614 0.19611614 0.19611614 0.19611614]\n",
      " [0.19245009 0.19245009 0.19245009 0.19245009 0.19245009 0.19245009\n",
      "  0.19245009 0.19245009 0.19245009 0.19245009 0.19245009 0.19245009\n",
      "  0.19245009 0.19245009 0.         0.19245009 0.19245009 0.19245009\n",
      "  0.19245009 0.19245009 0.19245009 0.19245009 0.19245009 0.19245009\n",
      "  0.19245009 0.19245009 0.19245009 0.19245009]\n",
      " [0.19245009 0.19245009 0.19245009 0.19245009 0.19245009 0.19245009\n",
      "  0.19245009 0.19245009 0.19245009 0.19245009 0.19245009 0.19245009\n",
      "  0.19245009 0.19245009 0.         0.19245009 0.19245009 0.19245009\n",
      "  0.19245009 0.19245009 0.19245009 0.19245009 0.19245009 0.19245009\n",
      "  0.19245009 0.19245009 0.19245009 0.19245009]\n",
      " [0.19245009 0.19245009 0.19245009 0.19245009 0.19245009 0.19245009\n",
      "  0.19245009 0.19245009 0.19245009 0.19245009 0.19245009 0.19245009\n",
      "  0.19245009 0.         0.19245009 0.19245009 0.19245009 0.19245009\n",
      "  0.19245009 0.19245009 0.19245009 0.19245009 0.19245009 0.19245009\n",
      "  0.19245009 0.19245009 0.19245009 0.19245009]\n",
      " [0.19245009 0.19245009 0.19245009 0.19245009 0.19245009 0.19245009\n",
      "  0.19245009 0.19245009 0.19245009 0.19245009 0.19245009 0.19245009\n",
      "  0.         0.19245009 0.19245009 0.19245009 0.19245009 0.19245009\n",
      "  0.19245009 0.19245009 0.19245009 0.19245009 0.19245009 0.19245009\n",
      "  0.19245009 0.19245009 0.19245009 0.19245009]\n",
      " [0.19611614 0.19611614 0.19611614 0.19611614 0.19611614 0.19611614\n",
      "  0.19611614 0.19611614 0.19611614 0.19611614 0.         0.\n",
      "  0.19611614 0.19611614 0.19611614 0.19611614 0.19611614 0.19611614\n",
      "  0.19611614 0.19611614 0.19611614 0.19611614 0.19611614 0.19611614\n",
      "  0.19611614 0.19611614 0.19611614 0.19611614]\n",
      " [0.19245009 0.19245009 0.19245009 0.19245009 0.19245009 0.19245009\n",
      "  0.19245009 0.19245009 0.19245009 0.         0.19245009 0.19245009\n",
      "  0.19245009 0.19245009 0.19245009 0.19245009 0.19245009 0.19245009\n",
      "  0.19245009 0.19245009 0.19245009 0.19245009 0.19245009 0.19245009\n",
      "  0.19245009 0.19245009 0.19245009 0.19245009]\n",
      " [0.19245009 0.19245009 0.19245009 0.19245009 0.19245009 0.19245009\n",
      "  0.19245009 0.19245009 0.         0.19245009 0.19245009 0.19245009\n",
      "  0.19245009 0.19245009 0.19245009 0.19245009 0.19245009 0.19245009\n",
      "  0.19245009 0.19245009 0.19245009 0.19245009 0.19245009 0.19245009\n",
      "  0.19245009 0.19245009 0.19245009 0.19245009]\n",
      " [0.19611614 0.19611614 0.19611614 0.19611614 0.19611614 0.19611614\n",
      "  0.         0.         0.19611614 0.19611614 0.19611614 0.19611614\n",
      "  0.19611614 0.19611614 0.19611614 0.19611614 0.19611614 0.19611614\n",
      "  0.19611614 0.19611614 0.19611614 0.19611614 0.19611614 0.19611614\n",
      "  0.19611614 0.19611614 0.19611614 0.19611614]\n",
      " [0.19245009 0.19245009 0.19245009 0.19245009 0.19245009 0.\n",
      "  0.19245009 0.19245009 0.19245009 0.19245009 0.19245009 0.19245009\n",
      "  0.19245009 0.19245009 0.19245009 0.19245009 0.19245009 0.19245009\n",
      "  0.19245009 0.19245009 0.19245009 0.19245009 0.19245009 0.19245009\n",
      "  0.19245009 0.19245009 0.19245009 0.19245009]\n",
      " [0.2        0.2        0.2        0.2        0.         0.2\n",
      "  0.2        0.2        0.2        0.         0.2        0.2\n",
      "  0.2        0.2        0.2        0.2        0.2        0.2\n",
      "  0.         0.2        0.2        0.2        0.2        0.2\n",
      "  0.2        0.2        0.2        0.2       ]\n",
      " [0.20412415 0.20412415 0.20412415 0.         0.20412415 0.\n",
      "  0.20412415 0.20412415 0.20412415 0.20412415 0.         0.20412415\n",
      "  0.20412415 0.20412415 0.20412415 0.20412415 0.20412415 0.\n",
      "  0.20412415 0.20412415 0.20412415 0.20412415 0.20412415 0.20412415\n",
      "  0.20412415 0.20412415 0.20412415 0.20412415]\n",
      " [0.19611614 0.19611614 0.         0.         0.19611614 0.19611614\n",
      "  0.19611614 0.19611614 0.19611614 0.19611614 0.19611614 0.19611614\n",
      "  0.19611614 0.19611614 0.19611614 0.19611614 0.19611614 0.19611614\n",
      "  0.19611614 0.19611614 0.19611614 0.19611614 0.19611614 0.19611614\n",
      "  0.19611614 0.19611614 0.19611614 0.19611614]\n",
      " [0.18898224 0.18898224 0.18898224 0.18898224 0.18898224 0.18898224\n",
      "  0.18898224 0.18898224 0.18898224 0.18898224 0.18898224 0.18898224\n",
      "  0.18898224 0.18898224 0.18898224 0.18898224 0.18898224 0.18898224\n",
      "  0.18898224 0.18898224 0.18898224 0.18898224 0.18898224 0.18898224\n",
      "  0.18898224 0.18898224 0.18898224 0.18898224]\n",
      " [0.18898224 0.18898224 0.18898224 0.18898224 0.18898224 0.18898224\n",
      "  0.18898224 0.18898224 0.18898224 0.18898224 0.18898224 0.18898224\n",
      "  0.18898224 0.18898224 0.18898224 0.18898224 0.18898224 0.18898224\n",
      "  0.18898224 0.18898224 0.18898224 0.18898224 0.18898224 0.18898224\n",
      "  0.18898224 0.18898224 0.18898224 0.18898224]\n",
      " [0.18898224 0.18898224 0.18898224 0.18898224 0.18898224 0.18898224\n",
      "  0.18898224 0.18898224 0.18898224 0.18898224 0.18898224 0.18898224\n",
      "  0.18898224 0.18898224 0.18898224 0.18898224 0.18898224 0.18898224\n",
      "  0.18898224 0.18898224 0.18898224 0.18898224 0.18898224 0.18898224\n",
      "  0.18898224 0.18898224 0.18898224 0.18898224]\n",
      " [0.18898224 0.18898224 0.18898224 0.18898224 0.18898224 0.18898224\n",
      "  0.18898224 0.18898224 0.18898224 0.18898224 0.18898224 0.18898224\n",
      "  0.18898224 0.18898224 0.18898224 0.18898224 0.18898224 0.18898224\n",
      "  0.18898224 0.18898224 0.18898224 0.18898224 0.18898224 0.18898224\n",
      "  0.18898224 0.18898224 0.18898224 0.18898224]\n",
      " [0.18898224 0.18898224 0.18898224 0.18898224 0.18898224 0.18898224\n",
      "  0.18898224 0.18898224 0.18898224 0.18898224 0.18898224 0.18898224\n",
      "  0.18898224 0.18898224 0.18898224 0.18898224 0.18898224 0.18898224\n",
      "  0.18898224 0.18898224 0.18898224 0.18898224 0.18898224 0.18898224\n",
      "  0.18898224 0.18898224 0.18898224 0.18898224]\n",
      " [0.18898224 0.18898224 0.18898224 0.18898224 0.18898224 0.18898224\n",
      "  0.18898224 0.18898224 0.18898224 0.18898224 0.18898224 0.18898224\n",
      "  0.18898224 0.18898224 0.18898224 0.18898224 0.18898224 0.18898224\n",
      "  0.18898224 0.18898224 0.18898224 0.18898224 0.18898224 0.18898224\n",
      "  0.18898224 0.18898224 0.18898224 0.18898224]\n",
      " [0.18898224 0.18898224 0.18898224 0.18898224 0.18898224 0.18898224\n",
      "  0.18898224 0.18898224 0.18898224 0.18898224 0.18898224 0.18898224\n",
      "  0.18898224 0.18898224 0.18898224 0.18898224 0.18898224 0.18898224\n",
      "  0.18898224 0.18898224 0.18898224 0.18898224 0.18898224 0.18898224\n",
      "  0.18898224 0.18898224 0.18898224 0.18898224]]\n"
     ]
    }
   ],
   "source": [
    "print(im_bw)"
   ]
  },
  {
   "cell_type": "code",
   "execution_count": null,
   "metadata": {
    "collapsed": true
   },
   "outputs": [],
   "source": [
    "X_train = np.reshape(X_train, (X_train.shape[0], 1, X_train.shape[1]))\n",
    "X_test = np.reshape(X_test, (X_test.shape[0], 1, X_test.shape[1]))"
   ]
  },
  {
   "cell_type": "code",
   "execution_count": 156,
   "metadata": {},
   "outputs": [
    {
     "data": {
      "text/plain": [
       "array([[[0.18898224, 0.18898224, 0.18898224, 0.18898224, 0.18898224,\n",
       "         0.18898224, 0.18898224, 0.18898224, 0.18898224, 0.18898224,\n",
       "         0.18898224, 0.18898224, 0.18898224, 0.18898224, 0.18898224,\n",
       "         0.18898224, 0.18898224, 0.18898224, 0.18898224, 0.18898224,\n",
       "         0.18898224, 0.18898224, 0.18898224, 0.18898224, 0.18898224,\n",
       "         0.18898224, 0.18898224, 0.18898224]],\n",
       "\n",
       "       [[0.18898224, 0.18898224, 0.18898224, 0.18898224, 0.18898224,\n",
       "         0.18898224, 0.18898224, 0.18898224, 0.18898224, 0.18898224,\n",
       "         0.18898224, 0.18898224, 0.18898224, 0.18898224, 0.18898224,\n",
       "         0.18898224, 0.18898224, 0.18898224, 0.18898224, 0.18898224,\n",
       "         0.18898224, 0.18898224, 0.18898224, 0.18898224, 0.18898224,\n",
       "         0.18898224, 0.18898224, 0.18898224]],\n",
       "\n",
       "       [[0.18898224, 0.18898224, 0.18898224, 0.18898224, 0.18898224,\n",
       "         0.18898224, 0.18898224, 0.18898224, 0.18898224, 0.18898224,\n",
       "         0.18898224, 0.18898224, 0.18898224, 0.18898224, 0.18898224,\n",
       "         0.18898224, 0.18898224, 0.18898224, 0.18898224, 0.18898224,\n",
       "         0.18898224, 0.18898224, 0.18898224, 0.18898224, 0.18898224,\n",
       "         0.18898224, 0.18898224, 0.18898224]],\n",
       "\n",
       "       [[0.18898224, 0.18898224, 0.18898224, 0.18898224, 0.18898224,\n",
       "         0.18898224, 0.18898224, 0.18898224, 0.18898224, 0.18898224,\n",
       "         0.18898224, 0.18898224, 0.18898224, 0.18898224, 0.18898224,\n",
       "         0.18898224, 0.18898224, 0.18898224, 0.18898224, 0.18898224,\n",
       "         0.18898224, 0.18898224, 0.18898224, 0.18898224, 0.18898224,\n",
       "         0.18898224, 0.18898224, 0.18898224]],\n",
       "\n",
       "       [[0.18898224, 0.18898224, 0.18898224, 0.18898224, 0.18898224,\n",
       "         0.18898224, 0.18898224, 0.18898224, 0.18898224, 0.18898224,\n",
       "         0.18898224, 0.18898224, 0.18898224, 0.18898224, 0.18898224,\n",
       "         0.18898224, 0.18898224, 0.18898224, 0.18898224, 0.18898224,\n",
       "         0.18898224, 0.18898224, 0.18898224, 0.18898224, 0.18898224,\n",
       "         0.18898224, 0.18898224, 0.18898224]],\n",
       "\n",
       "       [[0.18898224, 0.18898224, 0.18898224, 0.18898224, 0.18898224,\n",
       "         0.18898224, 0.18898224, 0.18898224, 0.18898224, 0.18898224,\n",
       "         0.18898224, 0.18898224, 0.18898224, 0.18898224, 0.18898224,\n",
       "         0.18898224, 0.18898224, 0.18898224, 0.18898224, 0.18898224,\n",
       "         0.18898224, 0.18898224, 0.18898224, 0.18898224, 0.18898224,\n",
       "         0.18898224, 0.18898224, 0.18898224]],\n",
       "\n",
       "       [[0.18898224, 0.18898224, 0.18898224, 0.18898224, 0.18898224,\n",
       "         0.18898224, 0.18898224, 0.18898224, 0.18898224, 0.18898224,\n",
       "         0.18898224, 0.18898224, 0.18898224, 0.18898224, 0.18898224,\n",
       "         0.18898224, 0.18898224, 0.18898224, 0.18898224, 0.18898224,\n",
       "         0.18898224, 0.18898224, 0.18898224, 0.18898224, 0.18898224,\n",
       "         0.18898224, 0.18898224, 0.18898224]],\n",
       "\n",
       "       [[0.2       , 0.2       , 0.2       , 0.2       , 0.2       ,\n",
       "         0.2       , 0.2       , 0.2       , 0.2       , 0.        ,\n",
       "         0.        , 0.2       , 0.2       , 0.        , 0.2       ,\n",
       "         0.2       , 0.2       , 0.2       , 0.2       , 0.2       ,\n",
       "         0.2       , 0.2       , 0.2       , 0.2       , 0.2       ,\n",
       "         0.2       , 0.2       , 0.2       ]],\n",
       "\n",
       "       [[0.19611614, 0.19611614, 0.19611614, 0.19611614, 0.19611614,\n",
       "         0.19611614, 0.19611614, 0.19611614, 0.        , 0.19611614,\n",
       "         0.19611614, 0.19611614, 0.19611614, 0.19611614, 0.        ,\n",
       "         0.19611614, 0.19611614, 0.19611614, 0.19611614, 0.19611614,\n",
       "         0.19611614, 0.19611614, 0.19611614, 0.19611614, 0.19611614,\n",
       "         0.19611614, 0.19611614, 0.19611614]],\n",
       "\n",
       "       [[0.19245009, 0.19245009, 0.19245009, 0.19245009, 0.19245009,\n",
       "         0.19245009, 0.19245009, 0.19245009, 0.19245009, 0.19245009,\n",
       "         0.19245009, 0.19245009, 0.19245009, 0.19245009, 0.        ,\n",
       "         0.19245009, 0.19245009, 0.19245009, 0.19245009, 0.19245009,\n",
       "         0.19245009, 0.19245009, 0.19245009, 0.19245009, 0.19245009,\n",
       "         0.19245009, 0.19245009, 0.19245009]],\n",
       "\n",
       "       [[0.19245009, 0.19245009, 0.19245009, 0.19245009, 0.19245009,\n",
       "         0.19245009, 0.19245009, 0.19245009, 0.19245009, 0.19245009,\n",
       "         0.19245009, 0.19245009, 0.19245009, 0.19245009, 0.        ,\n",
       "         0.19245009, 0.19245009, 0.19245009, 0.19245009, 0.19245009,\n",
       "         0.19245009, 0.19245009, 0.19245009, 0.19245009, 0.19245009,\n",
       "         0.19245009, 0.19245009, 0.19245009]],\n",
       "\n",
       "       [[0.19245009, 0.19245009, 0.19245009, 0.19245009, 0.19245009,\n",
       "         0.19245009, 0.19245009, 0.19245009, 0.19245009, 0.19245009,\n",
       "         0.19245009, 0.19245009, 0.19245009, 0.        , 0.19245009,\n",
       "         0.19245009, 0.19245009, 0.19245009, 0.19245009, 0.19245009,\n",
       "         0.19245009, 0.19245009, 0.19245009, 0.19245009, 0.19245009,\n",
       "         0.19245009, 0.19245009, 0.19245009]],\n",
       "\n",
       "       [[0.19245009, 0.19245009, 0.19245009, 0.19245009, 0.19245009,\n",
       "         0.19245009, 0.19245009, 0.19245009, 0.19245009, 0.19245009,\n",
       "         0.19245009, 0.19245009, 0.        , 0.19245009, 0.19245009,\n",
       "         0.19245009, 0.19245009, 0.19245009, 0.19245009, 0.19245009,\n",
       "         0.19245009, 0.19245009, 0.19245009, 0.19245009, 0.19245009,\n",
       "         0.19245009, 0.19245009, 0.19245009]],\n",
       "\n",
       "       [[0.19611614, 0.19611614, 0.19611614, 0.19611614, 0.19611614,\n",
       "         0.19611614, 0.19611614, 0.19611614, 0.19611614, 0.19611614,\n",
       "         0.        , 0.        , 0.19611614, 0.19611614, 0.19611614,\n",
       "         0.19611614, 0.19611614, 0.19611614, 0.19611614, 0.19611614,\n",
       "         0.19611614, 0.19611614, 0.19611614, 0.19611614, 0.19611614,\n",
       "         0.19611614, 0.19611614, 0.19611614]],\n",
       "\n",
       "       [[0.19245009, 0.19245009, 0.19245009, 0.19245009, 0.19245009,\n",
       "         0.19245009, 0.19245009, 0.19245009, 0.19245009, 0.        ,\n",
       "         0.19245009, 0.19245009, 0.19245009, 0.19245009, 0.19245009,\n",
       "         0.19245009, 0.19245009, 0.19245009, 0.19245009, 0.19245009,\n",
       "         0.19245009, 0.19245009, 0.19245009, 0.19245009, 0.19245009,\n",
       "         0.19245009, 0.19245009, 0.19245009]],\n",
       "\n",
       "       [[0.19245009, 0.19245009, 0.19245009, 0.19245009, 0.19245009,\n",
       "         0.19245009, 0.19245009, 0.19245009, 0.        , 0.19245009,\n",
       "         0.19245009, 0.19245009, 0.19245009, 0.19245009, 0.19245009,\n",
       "         0.19245009, 0.19245009, 0.19245009, 0.19245009, 0.19245009,\n",
       "         0.19245009, 0.19245009, 0.19245009, 0.19245009, 0.19245009,\n",
       "         0.19245009, 0.19245009, 0.19245009]],\n",
       "\n",
       "       [[0.19611614, 0.19611614, 0.19611614, 0.19611614, 0.19611614,\n",
       "         0.19611614, 0.        , 0.        , 0.19611614, 0.19611614,\n",
       "         0.19611614, 0.19611614, 0.19611614, 0.19611614, 0.19611614,\n",
       "         0.19611614, 0.19611614, 0.19611614, 0.19611614, 0.19611614,\n",
       "         0.19611614, 0.19611614, 0.19611614, 0.19611614, 0.19611614,\n",
       "         0.19611614, 0.19611614, 0.19611614]],\n",
       "\n",
       "       [[0.19245009, 0.19245009, 0.19245009, 0.19245009, 0.19245009,\n",
       "         0.        , 0.19245009, 0.19245009, 0.19245009, 0.19245009,\n",
       "         0.19245009, 0.19245009, 0.19245009, 0.19245009, 0.19245009,\n",
       "         0.19245009, 0.19245009, 0.19245009, 0.19245009, 0.19245009,\n",
       "         0.19245009, 0.19245009, 0.19245009, 0.19245009, 0.19245009,\n",
       "         0.19245009, 0.19245009, 0.19245009]],\n",
       "\n",
       "       [[0.2       , 0.2       , 0.2       , 0.2       , 0.        ,\n",
       "         0.2       , 0.2       , 0.2       , 0.2       , 0.        ,\n",
       "         0.2       , 0.2       , 0.2       , 0.2       , 0.2       ,\n",
       "         0.2       , 0.2       , 0.2       , 0.        , 0.2       ,\n",
       "         0.2       , 0.2       , 0.2       , 0.2       , 0.2       ,\n",
       "         0.2       , 0.2       , 0.2       ]],\n",
       "\n",
       "       [[0.20412415, 0.20412415, 0.20412415, 0.        , 0.20412415,\n",
       "         0.        , 0.20412415, 0.20412415, 0.20412415, 0.20412415,\n",
       "         0.        , 0.20412415, 0.20412415, 0.20412415, 0.20412415,\n",
       "         0.20412415, 0.20412415, 0.        , 0.20412415, 0.20412415,\n",
       "         0.20412415, 0.20412415, 0.20412415, 0.20412415, 0.20412415,\n",
       "         0.20412415, 0.20412415, 0.20412415]],\n",
       "\n",
       "       [[0.19611614, 0.19611614, 0.        , 0.        , 0.19611614,\n",
       "         0.19611614, 0.19611614, 0.19611614, 0.19611614, 0.19611614,\n",
       "         0.19611614, 0.19611614, 0.19611614, 0.19611614, 0.19611614,\n",
       "         0.19611614, 0.19611614, 0.19611614, 0.19611614, 0.19611614,\n",
       "         0.19611614, 0.19611614, 0.19611614, 0.19611614, 0.19611614,\n",
       "         0.19611614, 0.19611614, 0.19611614]],\n",
       "\n",
       "       [[0.18898224, 0.18898224, 0.18898224, 0.18898224, 0.18898224,\n",
       "         0.18898224, 0.18898224, 0.18898224, 0.18898224, 0.18898224,\n",
       "         0.18898224, 0.18898224, 0.18898224, 0.18898224, 0.18898224,\n",
       "         0.18898224, 0.18898224, 0.18898224, 0.18898224, 0.18898224,\n",
       "         0.18898224, 0.18898224, 0.18898224, 0.18898224, 0.18898224,\n",
       "         0.18898224, 0.18898224, 0.18898224]],\n",
       "\n",
       "       [[0.18898224, 0.18898224, 0.18898224, 0.18898224, 0.18898224,\n",
       "         0.18898224, 0.18898224, 0.18898224, 0.18898224, 0.18898224,\n",
       "         0.18898224, 0.18898224, 0.18898224, 0.18898224, 0.18898224,\n",
       "         0.18898224, 0.18898224, 0.18898224, 0.18898224, 0.18898224,\n",
       "         0.18898224, 0.18898224, 0.18898224, 0.18898224, 0.18898224,\n",
       "         0.18898224, 0.18898224, 0.18898224]],\n",
       "\n",
       "       [[0.18898224, 0.18898224, 0.18898224, 0.18898224, 0.18898224,\n",
       "         0.18898224, 0.18898224, 0.18898224, 0.18898224, 0.18898224,\n",
       "         0.18898224, 0.18898224, 0.18898224, 0.18898224, 0.18898224,\n",
       "         0.18898224, 0.18898224, 0.18898224, 0.18898224, 0.18898224,\n",
       "         0.18898224, 0.18898224, 0.18898224, 0.18898224, 0.18898224,\n",
       "         0.18898224, 0.18898224, 0.18898224]],\n",
       "\n",
       "       [[0.18898224, 0.18898224, 0.18898224, 0.18898224, 0.18898224,\n",
       "         0.18898224, 0.18898224, 0.18898224, 0.18898224, 0.18898224,\n",
       "         0.18898224, 0.18898224, 0.18898224, 0.18898224, 0.18898224,\n",
       "         0.18898224, 0.18898224, 0.18898224, 0.18898224, 0.18898224,\n",
       "         0.18898224, 0.18898224, 0.18898224, 0.18898224, 0.18898224,\n",
       "         0.18898224, 0.18898224, 0.18898224]],\n",
       "\n",
       "       [[0.18898224, 0.18898224, 0.18898224, 0.18898224, 0.18898224,\n",
       "         0.18898224, 0.18898224, 0.18898224, 0.18898224, 0.18898224,\n",
       "         0.18898224, 0.18898224, 0.18898224, 0.18898224, 0.18898224,\n",
       "         0.18898224, 0.18898224, 0.18898224, 0.18898224, 0.18898224,\n",
       "         0.18898224, 0.18898224, 0.18898224, 0.18898224, 0.18898224,\n",
       "         0.18898224, 0.18898224, 0.18898224]],\n",
       "\n",
       "       [[0.18898224, 0.18898224, 0.18898224, 0.18898224, 0.18898224,\n",
       "         0.18898224, 0.18898224, 0.18898224, 0.18898224, 0.18898224,\n",
       "         0.18898224, 0.18898224, 0.18898224, 0.18898224, 0.18898224,\n",
       "         0.18898224, 0.18898224, 0.18898224, 0.18898224, 0.18898224,\n",
       "         0.18898224, 0.18898224, 0.18898224, 0.18898224, 0.18898224,\n",
       "         0.18898224, 0.18898224, 0.18898224]],\n",
       "\n",
       "       [[0.18898224, 0.18898224, 0.18898224, 0.18898224, 0.18898224,\n",
       "         0.18898224, 0.18898224, 0.18898224, 0.18898224, 0.18898224,\n",
       "         0.18898224, 0.18898224, 0.18898224, 0.18898224, 0.18898224,\n",
       "         0.18898224, 0.18898224, 0.18898224, 0.18898224, 0.18898224,\n",
       "         0.18898224, 0.18898224, 0.18898224, 0.18898224, 0.18898224,\n",
       "         0.18898224, 0.18898224, 0.18898224]]])"
      ]
     },
     "execution_count": 156,
     "metadata": {},
     "output_type": "execute_result"
    }
   ],
   "source": [
    "arr = np.reshape(im_bw, (X_train.shape[1], 1, X_train.shape[1]))\n",
    "arr"
   ]
  },
  {
   "cell_type": "code",
   "execution_count": 157,
   "metadata": {},
   "outputs": [
    {
     "ename": "ValueError",
     "evalue": "Error when checking input: expected sequential_1_input to have shape (28, 28) but got array with shape (1, 28)",
     "output_type": "error",
     "traceback": [
      "\u001b[0;31m---------------------------------------------------------------------------\u001b[0m",
      "\u001b[0;31mValueError\u001b[0m                                Traceback (most recent call last)",
      "\u001b[0;32m<ipython-input-157-ca50b32814f5>\u001b[0m in \u001b[0;36m<module>\u001b[0;34m()\u001b[0m\n\u001b[0;32m----> 1\u001b[0;31m \u001b[0mmodel\u001b[0m\u001b[0;34m.\u001b[0m\u001b[0mpredict\u001b[0m\u001b[0;34m(\u001b[0m\u001b[0marr\u001b[0m\u001b[0;34m)\u001b[0m\u001b[0;34m\u001b[0m\u001b[0m\n\u001b[0m",
      "\u001b[0;32m/usr/local/lib/python3.6/site-packages/tensorflow/python/keras/engine/training.py\u001b[0m in \u001b[0;36mpredict\u001b[0;34m(self, x, batch_size, verbose, steps)\u001b[0m\n\u001b[1;32m   1484\u001b[0m     \u001b[0;31m# Validate and standardize user data.\u001b[0m\u001b[0;34m\u001b[0m\u001b[0;34m\u001b[0m\u001b[0m\n\u001b[1;32m   1485\u001b[0m     x, _, _ = self._standardize_user_data(\n\u001b[0;32m-> 1486\u001b[0;31m         x, check_steps=True, steps_name='steps', steps=steps)\n\u001b[0m\u001b[1;32m   1487\u001b[0m \u001b[0;34m\u001b[0m\u001b[0m\n\u001b[1;32m   1488\u001b[0m     \u001b[0;32mif\u001b[0m \u001b[0mcontext\u001b[0m\u001b[0;34m.\u001b[0m\u001b[0mexecuting_eagerly\u001b[0m\u001b[0;34m(\u001b[0m\u001b[0;34m)\u001b[0m\u001b[0;34m:\u001b[0m\u001b[0;34m\u001b[0m\u001b[0m\n",
      "\u001b[0;32m/usr/local/lib/python3.6/site-packages/tensorflow/python/keras/engine/training.py\u001b[0m in \u001b[0;36m_standardize_user_data\u001b[0;34m(self, x, y, sample_weight, class_weight, batch_size, check_steps, steps_name, steps, validation_split)\u001b[0m\n\u001b[1;32m    876\u001b[0m         \u001b[0mfeed_input_shapes\u001b[0m\u001b[0;34m,\u001b[0m\u001b[0;34m\u001b[0m\u001b[0m\n\u001b[1;32m    877\u001b[0m         \u001b[0mcheck_batch_axis\u001b[0m\u001b[0;34m=\u001b[0m\u001b[0;32mFalse\u001b[0m\u001b[0;34m,\u001b[0m  \u001b[0;31m# Don't enforce the batch size.\u001b[0m\u001b[0;34m\u001b[0m\u001b[0m\n\u001b[0;32m--> 878\u001b[0;31m         exception_prefix='input')\n\u001b[0m\u001b[1;32m    879\u001b[0m \u001b[0;34m\u001b[0m\u001b[0m\n\u001b[1;32m    880\u001b[0m     \u001b[0;32mif\u001b[0m \u001b[0my\u001b[0m \u001b[0;32mis\u001b[0m \u001b[0;32mnot\u001b[0m \u001b[0;32mNone\u001b[0m\u001b[0;34m:\u001b[0m\u001b[0;34m\u001b[0m\u001b[0m\n",
      "\u001b[0;32m/usr/local/lib/python3.6/site-packages/tensorflow/python/keras/engine/training_utils.py\u001b[0m in \u001b[0;36mstandardize_input_data\u001b[0;34m(data, names, shapes, check_batch_axis, exception_prefix)\u001b[0m\n\u001b[1;32m    189\u001b[0m                 \u001b[0;34m'Error when checking '\u001b[0m \u001b[0;34m+\u001b[0m \u001b[0mexception_prefix\u001b[0m \u001b[0;34m+\u001b[0m \u001b[0;34m': expected '\u001b[0m \u001b[0;34m+\u001b[0m\u001b[0;34m\u001b[0m\u001b[0m\n\u001b[1;32m    190\u001b[0m                 \u001b[0mnames\u001b[0m\u001b[0;34m[\u001b[0m\u001b[0mi\u001b[0m\u001b[0;34m]\u001b[0m \u001b[0;34m+\u001b[0m \u001b[0;34m' to have shape '\u001b[0m \u001b[0;34m+\u001b[0m \u001b[0mstr\u001b[0m\u001b[0;34m(\u001b[0m\u001b[0mshape\u001b[0m\u001b[0;34m)\u001b[0m \u001b[0;34m+\u001b[0m\u001b[0;34m\u001b[0m\u001b[0m\n\u001b[0;32m--> 191\u001b[0;31m                 ' but got array with shape ' + str(data_shape))\n\u001b[0m\u001b[1;32m    192\u001b[0m   \u001b[0;32mreturn\u001b[0m \u001b[0mdata\u001b[0m\u001b[0;34m\u001b[0m\u001b[0m\n\u001b[1;32m    193\u001b[0m \u001b[0;34m\u001b[0m\u001b[0m\n",
      "\u001b[0;31mValueError\u001b[0m: Error when checking input: expected sequential_1_input to have shape (28, 28) but got array with shape (1, 28)"
     ]
    }
   ],
   "source": [
    "model.predict(arr)"
   ]
  },
  {
   "cell_type": "code",
   "execution_count": null,
   "metadata": {
    "collapsed": true
   },
   "outputs": [],
   "source": []
  },
  {
   "cell_type": "code",
   "execution_count": null,
   "metadata": {
    "collapsed": true
   },
   "outputs": [],
   "source": []
  }
 ],
 "metadata": {
  "kernelspec": {
   "display_name": "NLP",
   "language": "python",
   "name": "nlp"
  },
  "language_info": {
   "codemirror_mode": {
    "name": "ipython",
    "version": 3
   },
   "file_extension": ".py",
   "mimetype": "text/x-python",
   "name": "python",
   "nbconvert_exporter": "python",
   "pygments_lexer": "ipython3",
   "version": "3.6.4"
  }
 },
 "nbformat": 4,
 "nbformat_minor": 2
}
